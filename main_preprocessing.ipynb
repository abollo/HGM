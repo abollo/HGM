{
 "cells": [
  {
   "cell_type": "code",
   "execution_count": 1,
   "metadata": {},
   "outputs": [
    {
     "name": "stdout",
     "output_type": "stream",
     "text": [
      "Currently acceptable names for sources generation:\n",
      " ellipses, randmatNxM, randmatNxM_skewed (N,M = 1,...,9), black_image, white_image, lines, square, square_part, logo, alphabet, lines_random\n"
     ]
    }
   ],
   "source": [
    "import sys\n",
    "import os\n",
    "\n",
    "import matplotlib.pyplot as plt\n",
    "\n",
    "sys.path.append('classes/')\n",
    "from classes.dataset import *"
   ]
  },
  {
   "cell_type": "code",
   "execution_count": 2,
   "metadata": {},
   "outputs": [
    {
     "name": "stdout",
     "output_type": "stream",
     "text": [
      "This is the current blueprint:\n",
      "number of samples: 30, name of samples: logo\n",
      "number of samples: 120, name of samples: logo_full\n",
      "number of samples: 56, name of samples: lines_rayleigh\n",
      "number of samples: 96, name of samples: alphabet\n",
      "number of samples: 1764, name of samples: lines_pair\n",
      "number of samples: 60, name of samples: square\n",
      "number of samples: 441, name of samples: square_part\n",
      "number of samples: 1000, name of samples: rand_ellipse\n",
      "number of samples: 2000, name of samples: rand_ellipses\n",
      "number of samples: 1000, name of samples: rand_line\n",
      "number of samples: 2000, name of samples: rand_lines\n",
      "number of samples: 20000, name of samples: rand_matrix\n",
      "Total number of samples = 28567\n"
     ]
    }
   ],
   "source": [
    "data_folder = r'/Users/giorgio/Desktop/HGM_programs/data/'\n",
    "\n",
    "a = Dataset(\n",
    "    data_folder=data_folder,\n",
    "    HG_basis=21, # 21 = (20 x 20), with mode (20,20) included, so 441 modes in total\n",
    "    DMD_basis=210\n",
    ")\n",
    "a.blueprint_load('blueprint.txt')\n",
    "a.blueprint_print()"
   ]
  },
  {
   "cell_type": "markdown",
   "metadata": {},
   "source": [
    "**Generate DMD images**"
   ]
  },
  {
   "cell_type": "code",
   "execution_count": null,
   "metadata": {},
   "outputs": [],
   "source": [
    "# ~ If you already have the sources and DMD images do not run these lines of code ~ #\n",
    "# a.sources_generate() # generate all sources, 210x210 each. Achtung! It takes a few hours, so do not do it if sources are already created\n",
    "# a.sources_save() # save sources as numpy zipped tensors\n",
    "\n",
    "a.sources_load() # load sources from numpy zipped tensors\n",
    "# a.DMD_frames_save() # save sources as DMD frames, which are bitmap binary images\n",
    "# a.DMD_frames_unzip() # unzip DMD frames\n",
    "# a.sequences_save() # generate sequences for DMD 'pattern-on-the-fky' mode"
   ]
  },
  {
   "cell_type": "markdown",
   "metadata": {},
   "source": [
    "**Generate NN labels by simulating HGM**"
   ]
  },
  {
   "cell_type": "code",
   "execution_count": null,
   "metadata": {},
   "outputs": [],
   "source": [
    "# ~ If you already have the simulated HGM data, do not run these lines of code ~ #\n",
    "# a.sim_init() # initialize modes HG(m,n) for simulation\n",
    "# a.sim_generate(save_temp=True)  # simulate all samples in blueprint. save_temp=True: save temp data in /temp folder \n",
    "# a.sim_save(load_temp=True) # make tensors for NN (logo.pt, logo_full.pt, ..)\n",
    "a.sim_load()"
   ]
  },
  {
   "cell_type": "markdown",
   "metadata": {},
   "source": [
    "**Generate NN features by processing the acquired experimental photocurrents**"
   ]
  },
  {
   "cell_type": "code",
   "execution_count": null,
   "metadata": {},
   "outputs": [],
   "source": [
    "a.exp_preprocess(\n",
    "    \n",
    "    source_folder= r'C:\\Users\\dacostafilho\\Desktop\\Measurements\\p20201222/',\n",
    "    save_folder=r'C:\\Users\\dacostafilho\\Desktop\\HGM_programs\\data\\exp_photocurrents\\20x20_210x210/',\n",
    "    \n",
    "    scope_trace_points = 55000,\n",
    "    ch0_vert_scale = 90,\n",
    "    ch1_vert_scale = 9,\n",
    "    guess_fit_freq = 0.262,\n",
    "    \n",
    "    moving_avg_kernel = None,\n",
    "\n",
    "    parallel_processing = True,\n",
    "    debug = False,\n",
    "    \n",
    "    load_fits = False,\n",
    "    power_norm = False\n",
    ")"
   ]
  }
 ],
 "metadata": {
  "kernelspec": {
   "display_name": "Python 3",
   "language": "python",
   "name": "python3"
  },
  "language_info": {
   "codemirror_mode": {
    "name": "ipython",
    "version": 3
   },
   "file_extension": ".py",
   "mimetype": "text/x-python",
   "name": "python",
   "nbconvert_exporter": "python",
   "pygments_lexer": "ipython3",
   "version": "3.8.5"
  }
 },
 "nbformat": 4,
 "nbformat_minor": 4
}
