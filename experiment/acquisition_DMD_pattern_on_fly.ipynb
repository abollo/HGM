{
 "cells": [
  {
   "cell_type": "code",
   "execution_count": 1,
   "metadata": {},
   "outputs": [
    {
     "name": "stderr",
     "output_type": "stream",
     "text": [
      "C:\\ProgramData\\Anaconda3\\envs\\lab\\lib\\site-packages\\pyglet\\media\\codecs\\wmf.py:838: UserWarning: [WinError -2147417850] Cannot change thread mode after it is set\n",
      "  warnings.warn(str(err))\n"
     ]
    }
   ],
   "source": [
    "# system libraries\n",
    "import sys\n",
    "import os\n",
    "import subprocess\n",
    "\n",
    "# 3rd party libraries\n",
    "import numpy as np\n",
    "import matplotlib.pyplot as plt\n",
    "import cv2\n",
    "from datetime import datetime\n",
    "import time\n",
    "\n",
    "# our custom libraries\n",
    "sys.path.append('../python_libraries/')\n",
    "\n",
    "from oscilloscope.oscilloscope import *\n",
    "from spectrum_analyzer.spectrum_analyzer import *\n",
    "\n",
    "from SLM.SLM import *\n",
    "from HG_modes.HG_modes import *\n",
    "\n",
    "from alignment.alignment_v2 import * \n",
    "from DMD_autoGUI.DMD_autoGUI import * \n",
    "from oscilloscope.oscilloscope import *\n",
    "\n",
    "## our custom classes (DMD sources)\n",
    "# sys.path.append('classes/')\n",
    "# from classes.dataset import *"
   ]
  },
  {
   "cell_type": "code",
   "execution_count": 2,
   "metadata": {},
   "outputs": [],
   "source": [
    "## to do:\n",
    "# 1) threshold autoalign\n",
    "# 2) set up vertical resolution scope "
   ]
  },
  {
   "cell_type": "markdown",
   "metadata": {},
   "source": [
    "**Define name of measurement, data folders, DMD sequences folder and number of LO modes**"
   ]
  },
  {
   "cell_type": "code",
   "execution_count": 3,
   "metadata": {},
   "outputs": [],
   "source": [
    "name_measurement = '20x20' #'LO_basis_20_20'\n",
    "\n",
    "save_folder = r\"D:\\measurements\\measurements\\p\" + str(datetime.today().strftime('%Y%m%d')) + '\\p' + str(datetime.today().strftime('%H%M%S')+ '/' + str(name_measurement)+'/') \n",
    "if not os.path.exists(save_folder):\n",
    "    os.makedirs(save_folder)"
   ]
  },
  {
   "cell_type": "code",
   "execution_count": 5,
   "metadata": {},
   "outputs": [],
   "source": [
    "folder_sequences = r\"data/sequences/\"\n",
    "sequences = np.arange(0,72,1)"
   ]
  },
  {
   "cell_type": "code",
   "execution_count": 6,
   "metadata": {},
   "outputs": [],
   "source": [
    "LO_modes_m, LO_modes_n = 21, 21"
   ]
  },
  {
   "cell_type": "markdown",
   "metadata": {},
   "source": [
    "**Initialize instruments libraries**"
   ]
  },
  {
   "cell_type": "code",
   "execution_count": 11,
   "metadata": {},
   "outputs": [
    {
     "name": "stdout",
     "output_type": "stream",
     "text": [
      "Connected to: \n",
      " TEKTRONIX,MSO5104,C010172,CF:91.1CT FV:6.8.1 Build 3\n",
      "\n",
      "Reading channel: \n",
      " CH1,CH2,CH3,CH4  \n",
      "\n",
      "Data format: \n",
      " RIB\n",
      "\n",
      "Points per frame: \n",
      " 55000 \n",
      "\n",
      "Info measurement: \n",
      " 2;16;BIN;RI;MSB;\"Ch4, DC coupling, 400.0mV/div, 4.400ms/div, 55000 points, Sample mode\";55000;Y;\"s\";800.0000E-9;0.0000;1090;\"V\";62.5000E-6;-24.7040E+3;0.0000;1\n",
      " \n",
      "\n"
     ]
    }
   ],
   "source": [
    "n_points_oscilloscope = 55000 #215000 # 475000\n",
    "scope = Oscilloscope(\n",
    "    n_points_oscilloscope,\n",
    "    binary = True,\n",
    "    channels = 'CH1,CH2,CH3,CH4'\n",
    ")"
   ]
  },
  {
   "cell_type": "code",
   "execution_count": 13,
   "metadata": {},
   "outputs": [
    {
     "name": "stderr",
     "output_type": "stream",
     "text": [
      "C:\\ProgramData\\Anaconda3\\envs\\lab\\lib\\site-packages\\pyglet\\image\\codecs\\wic.py:292: UserWarning: [WinError -2147417850] Cannot change thread mode after it is set\n",
      "  warnings.warn(str(err))\n"
     ]
    }
   ],
   "source": [
    "slm = SLM(screen_ID=1,\n",
    "          folder_holograms= r'C:\\Users\\dacostafilho\\Desktop\\python_libraries\\alignment\\holograms/'\n",
    ")"
   ]
  },
  {
   "cell_type": "code",
   "execution_count": 14,
   "metadata": {},
   "outputs": [],
   "source": [
    "program_DMD_GUI = Program_DMD_GUI(\n",
    "    folder_sequences =  folder_sequences,\n",
    "    sequence_temporary = \"00_current_seq.txt\",\n",
    "    sequence_alignment_square = \"00_alig_square.txt\"\n",
    ")"
   ]
  },
  {
   "cell_type": "code",
   "execution_count": 15,
   "metadata": {},
   "outputs": [
    {
     "name": "stdout",
     "output_type": "stream",
     "text": [
      "Connected to: \n",
      " Rigol Technologies,DSA815,DSA8A211500380,00.01.19.00.02\n",
      "\n"
     ]
    }
   ],
   "source": [
    "spectrum = SpectrumAnalyzer()\n",
    "alignment = Alignment(slm,\n",
    "                      spectrum,\n",
    "                      log_folder = save_folder,\n",
    "                      plots = False,\n",
    "                      detailed_printing = False,\n",
    "                      renorm = False,\n",
    "                      threshold=0.013)"
   ]
  },
  {
   "cell_type": "markdown",
   "metadata": {},
   "source": [
    "**Manual setup alignment**"
   ]
  },
  {
   "cell_type": "code",
   "execution_count": null,
   "metadata": {},
   "outputs": [],
   "source": [
    "slm.update_mode(0,0, zero_shift_angle=False)\n",
    "# slm.update_mode(1,0, zero_shift_angle=True)\n",
    "# slm.update_mode(0,1, zero_shift_angle=True)\n",
    "\n",
    "# slm.update_mode(20,20, zero_shift_angle=True)"
   ]
  },
  {
   "cell_type": "markdown",
   "metadata": {},
   "source": [
    "**Acquisition**"
   ]
  },
  {
   "cell_type": "code",
   "execution_count": null,
   "metadata": {},
   "outputs": [],
   "source": [
    "# 1) NOTE: before running, open DMD GUI software and set it to pattern on the fly mode"
   ]
  },
  {
   "cell_type": "code",
   "execution_count": 16,
   "metadata": {},
   "outputs": [
    {
     "name": "stdout",
     "output_type": "stream",
     "text": [
      "sequences:  [22 23 24 25 26 27 28 29 30 31 32 33 34 35 36 37 38 39 40 41 42 43 44 45\n",
      " 46 47 48 49 50 51 52 53 54 55 56 57 58 59 60 61 62 63 64 65 66 67 68 69\n",
      " 70 71]\n",
      "modes m:  21\n",
      "modes n:  21\n"
     ]
    }
   ],
   "source": [
    "print('sequences: ',sequences)\n",
    "print('modes m: ',LO_modes_m)\n",
    "print('modes n: ',LO_modes_n)"
   ]
  },
  {
   "cell_type": "code",
   "execution_count": null,
   "metadata": {},
   "outputs": [],
   "source": [
    "# program_DMD_GUI.start_alignment_sequence()\n",
    "# alignment.perform(idx = 0, save = True)"
   ]
  },
  {
   "cell_type": "code",
   "execution_count": 17,
   "metadata": {},
   "outputs": [
    {
     "name": "stdout",
     "output_type": "stream",
     "text": [
      "\n",
      " sequence 22/50\n",
      "\n",
      " sequence 23/50\n",
      "\n",
      " sequence 24/50\n",
      "\n",
      " sequence 25/50\n",
      "\n",
      " sequence 26/50\n",
      "\n",
      " sequence 27/50\n",
      "\n",
      " sequence 28/50\n",
      "\n",
      " sequence 29/50\n",
      "\n",
      " sequence 30/50\n",
      "Alignment finished. Min_H, Min_V:  0.0039429570719562435 ,  0.01056950013622604\n",
      "\n",
      " sequence 31/50\n",
      "\n",
      " sequence 32/50\n",
      "\n",
      " sequence 33/50\n",
      "\n",
      " sequence 34/50\n",
      "\n",
      " sequence 35/50\n",
      "\n",
      " sequence 36/50\n",
      "\n",
      " sequence 37/50\n",
      "\n",
      " sequence 38/50\n",
      "\n",
      " sequence 39/50\n",
      "\n",
      " sequence 40/50\n",
      "Alignment finished. Min_H, Min_V:  0.006574658786145937 ,  0.0027508119480185167\n",
      "\n",
      " sequence 41/50\n",
      "\n",
      " sequence 42/50\n",
      "\n",
      " sequence 43/50\n",
      "\n",
      " sequence 44/50\n",
      "\n",
      " sequence 45/50\n",
      "\n",
      " sequence 46/50\n",
      "\n",
      " sequence 47/50\n",
      "\n",
      " sequence 48/50\n",
      "\n",
      " sequence 49/50\n",
      "\n",
      " sequence 50/50\n",
      "Alignment finished. Min_H, Min_V:  0.011956899879927985 ,  0.012825379647196655\n",
      "\n",
      " sequence 51/50\n",
      "\n",
      " sequence 52/50\n",
      "\n",
      " sequence 53/50\n",
      "\n",
      " sequence 54/50\n",
      "\n",
      " sequence 55/50\n",
      "\n",
      " sequence 56/50\n",
      "\n",
      " sequence 57/50\n",
      "\n",
      " sequence 58/50\n",
      "\n",
      " sequence 59/50\n",
      "\n",
      " sequence 60/50\n",
      "Alignment finished. Min_H, Min_V:  0.006564069166686837 ,  0.0022506250335618816\n",
      "\n",
      " sequence 61/50\n",
      "\n",
      " sequence 62/50\n",
      "\n",
      " sequence 63/50\n",
      "\n",
      " sequence 64/50\n",
      "\n",
      " sequence 65/50\n",
      "\n",
      " sequence 66/50\n",
      "\n",
      " sequence 67/50\n",
      "\n",
      " sequence 68/50\n",
      "\n",
      " sequence 69/50\n",
      "\n",
      " sequence 70/50\n",
      "Alignment finished. Min_H, Min_V:  0.005238384812727981 ,  0.0015219009863107202\n",
      "\n",
      " sequence 71/50\n",
      "\n",
      " sequence 0/72\n",
      "Alignment finished. Min_H, Min_V:  0.012683299722981989 ,  0.005208705862458363\n",
      "\n",
      " sequence 1/72\n",
      "\n",
      " sequence 2/72\n",
      "\n",
      " sequence 3/72\n",
      "\n",
      " sequence 4/72\n",
      "\n",
      " sequence 5/72\n",
      "\n",
      " sequence 6/72\n",
      "\n",
      " sequence 7/72\n",
      "\n",
      " sequence 8/72\n",
      "\n",
      " sequence 9/72\n",
      "\n",
      " sequence 10/72\n",
      "Alignment finished. Min_H, Min_V:  0.0034983569860425057 ,  0.0017811599634445785\n",
      "\n",
      " sequence 11/72\n",
      "\n",
      " sequence 12/72\n",
      "\n",
      " sequence 13/72\n",
      "\n",
      " sequence 14/72\n",
      "\n",
      " sequence 15/72\n",
      "\n",
      " sequence 16/72\n",
      "\n",
      " sequence 17/72\n",
      "\n",
      " sequence 18/72\n",
      "\n",
      " sequence 19/72\n",
      "\n",
      " sequence 20/72\n",
      "Alignment finished. Min_H, Min_V:  0.004080329824018847 ,  0.00395039209677428\n",
      "\n",
      " sequence 21/72\n",
      "\n",
      " sequence 22/72\n",
      "\n",
      " sequence 23/72\n",
      "\n",
      " sequence 24/72\n",
      "\n",
      " sequence 25/72\n",
      "\n",
      " sequence 26/72\n",
      "\n",
      " sequence 27/72\n",
      "\n",
      " sequence 28/72\n",
      "\n",
      " sequence 29/72\n",
      "\n",
      " sequence 30/72\n",
      "Alignment finished. Min_H, Min_V:  0.008740993172329237 ,  0.006104755156249864\n",
      "\n",
      " sequence 31/72\n",
      "\n",
      " sequence 32/72\n",
      "\n",
      " sequence 33/72\n",
      "\n",
      " sequence 34/72\n",
      "\n",
      " sequence 35/72\n",
      "\n",
      " sequence 36/72\n",
      "\n",
      " sequence 37/72\n",
      "\n",
      " sequence 38/72\n",
      "\n",
      " sequence 39/72\n",
      "\n",
      " sequence 40/72\n",
      "Alignment finished. Min_H, Min_V:  0.002493784042115199 ,  0.0053684049393376565\n",
      "\n",
      " sequence 41/72\n",
      "\n",
      " sequence 42/72\n",
      "\n",
      " sequence 43/72\n",
      "\n",
      " sequence 44/72\n",
      "\n",
      " sequence 45/72\n",
      "\n",
      " sequence 46/72\n",
      "\n",
      " sequence 47/72\n",
      "\n",
      " sequence 48/72\n",
      "\n",
      " sequence 49/72\n",
      "\n",
      " sequence 50/72\n",
      "Alignment finished. Min_H, Min_V:  0.0013396309886046232 ,  0.0023583400857174475\n",
      "\n",
      " sequence 51/72\n",
      "\n",
      " sequence 52/72\n",
      "\n",
      " sequence 53/72\n",
      "\n",
      " sequence 54/72\n",
      "\n",
      " sequence 55/72\n",
      "\n",
      " sequence 56/72\n",
      "\n",
      " sequence 57/72\n",
      "\n",
      " sequence 58/72\n",
      "\n",
      " sequence 59/72\n",
      "\n",
      " sequence 60/72\n",
      "Alignment finished. Min_H, Min_V:  0.0022396550759806733 ,  0.006956637956662126\n",
      "\n",
      " sequence 61/72\n",
      "\n",
      " sequence 62/72\n",
      "\n",
      " sequence 63/72\n",
      "\n",
      " sequence 64/72\n",
      "\n",
      " sequence 65/72\n",
      "\n",
      " sequence 66/72\n",
      "\n",
      " sequence 67/72\n",
      "\n",
      " sequence 68/72\n",
      "\n",
      " sequence 69/72\n",
      "\n",
      " sequence 70/72\n",
      "Alignment finished. Min_H, Min_V:  0.005237036932587147 ,  0.0029236840812935094\n",
      "\n",
      " sequence 71/72\n"
     ]
    }
   ],
   "source": [
    "counter_autoalignment = 0\n",
    "\n",
    "for seq_n in sequences:\n",
    "    print('\\n sequence {}/{}'.format(seq_n, len(sequences)))\n",
    "    if (seq_n % 10) == 0: # perform auto-alignement \n",
    "        program_DMD_GUI.start_alignment_sequence()\n",
    "        alignment.perform(idx = counter_autoalignment, save = True)\n",
    "        counter_autoalignment += 1\n",
    "\n",
    "    program_DMD_GUI.start_sequence(str(seq_n)+'.txt')\n",
    "\n",
    "    for m in range(LO_modes_m):\n",
    "        for n in range(LO_modes_n):\n",
    "            slm.update_mode(m,n, zero_shift_angle=False)\n",
    "            if m==0 and n==0:\n",
    "                time.sleep(0.5)\n",
    "            else:\n",
    "                # in case of higher order modes, transfer previously acquired trace \n",
    "                # and do not wait any longer, since this operation takes about 1s for 55k points, 4CH\n",
    "                scope.transfer_trace(decode=False, save=True, file_path=save_path_oscilloscope_trace)\n",
    "\n",
    "            # acquire trace for mode (m,n), then set filepath where this trace will be saved (during the next loop)\n",
    "            scope.acquire_trace()\n",
    "            save_path_oscilloscope_trace = save_folder + str(seq_n) + '_' + str(m) + '_' + str(n) +'.bin'\n",
    "\n",
    "    # transfer traces of last mode (m,n)        \n",
    "    scope.transfer_trace(decode=False, save=True, file_path=save_path_oscilloscope_trace)\n",
    "\n",
    "    \n",
    "program_DMD_GUI.park_DMD()\n",
    "\n",
    "scope.close()\n",
    "slm.close()"
   ]
  },
  {
   "cell_type": "code",
   "execution_count": null,
   "metadata": {},
   "outputs": [],
   "source": []
  },
  {
   "cell_type": "code",
   "execution_count": null,
   "metadata": {},
   "outputs": [],
   "source": []
  },
  {
   "cell_type": "code",
   "execution_count": null,
   "metadata": {},
   "outputs": [],
   "source": [
    "## estimated time:\n",
    "n_seq = 28\n",
    "delta_t = 2*60 + 20\n",
    "\n",
    "time_per_seq = delta_t / n_seq\n",
    "\n",
    "total_time = time_per_seq * 76\n",
    "print('time in for 30k samples: h {:.2}'.format(total_time/60))"
   ]
  },
  {
   "cell_type": "code",
   "execution_count": null,
   "metadata": {},
   "outputs": [],
   "source": [
    "## estimated files size in GB:\n",
    "size_one_trace_4_ch = 430 #(KB)\n",
    "expected_binary_file_total_size = size_one_trace_4_ch*256*26*3/(1024*1024)\n",
    "print('Expected acquired data size: {:.3} GB '.format(expected_binary_file_total_size))"
   ]
  }
 ],
 "metadata": {
  "kernelspec": {
   "display_name": "Python 3",
   "language": "python",
   "name": "python3"
  },
  "language_info": {
   "codemirror_mode": {
    "name": "ipython",
    "version": 3
   },
   "file_extension": ".py",
   "mimetype": "text/x-python",
   "name": "python",
   "nbconvert_exporter": "python",
   "pygments_lexer": "ipython3",
   "version": "3.8.5"
  }
 },
 "nbformat": 4,
 "nbformat_minor": 2
}
